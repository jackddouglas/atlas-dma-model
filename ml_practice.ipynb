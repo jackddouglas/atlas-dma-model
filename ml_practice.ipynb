{
 "cells": [
  {
   "cell_type": "code",
   "execution_count": 6,
   "id": "b98576b3",
   "metadata": {},
   "outputs": [],
   "source": [
    "import collections\n",
    "\n",
    "import numpy as np\n",
    "import pandas as pd\n",
    "import plotly.graph_objects as go\n",
    "import matplotlib as mpl\n",
    "import matplotlib.pyplot as plt\n",
    "import seaborn as sns\n",
    "\n",
    "from pymatgen.core import Composition\n",
    "\n",
    "rcparams = {\n",
    "    'legend.fontsize': 20,\n",
    "    'figure.figsize': (12, 8),\n",
    "    'axes.labelsize': 24,\n",
    "    'axes.titlesize': 28,\n",
    "    'xtick.labelsize': 20,\n",
    "    'ytick.labelsize': 20\n",
    "}\n",
    "sns.set(rc=rcparams)\n",
    "mpl.rcParams.update(rcparams)\n",
    "\n",
    "%matplotlib inline\n",
    "%config InlineBackend.figure_format = 'retina'\n",
    "\n",
    "from sklearn.neural_network import MLPClassifier, MLPRegressor\n",
    "from sklearn.metrics import mean_squared_error, accuracy_score, roc_curve, roc_auc_score\n",
    "from sklearn.model_selection import train_test_split, GridSearchCV, KFold"
   ]
  },
  {
   "cell_type": "code",
   "execution_count": 7,
   "id": "5e256581",
   "metadata": {},
   "outputs": [],
   "source": [
    "data_url = 'https://raw.githubusercontent.com/materialsvirtuallab/nano281/master/labs/lab2/data2022.csv'\n",
    "data = pd.read_csv(data_url, index_col=0, na_filter=False)\n",
    "\n",
    "data['composition'] = [Composition(f) for f in data['formula']]"
   ]
  },
  {
   "cell_type": "code",
   "execution_count": 13,
   "id": "35c0cc8f",
   "metadata": {},
   "outputs": [],
   "source": [
    "el_data_url = \"https://raw.githubusercontent.com/materialsvirtuallab/nano281/master/labs/lab2/element_properties.csv\"\n",
    "el_data = pd.read_csv(el_data_url, index_col=0)\n",
    "el_data = el_data[\n",
    "    [\"AtomicRadius\", \"AtomicWeight\", \"Electronegativity\"]\n",
    "]"
   ]
  },
  {
   "cell_type": "code",
   "execution_count": 15,
   "id": "4e628ebf",
   "metadata": {},
   "outputs": [
    {
     "name": "stdout",
     "output_type": "stream",
     "text": [
      "(681, 16)\n"
     ]
    }
   ],
   "source": [
    "props = collections.defaultdict(list)\n",
    "\n",
    "for comp in data['composition']:\n",
    "    for c in el_data.columns:\n",
    "        vals = [el_data[c][el.symbol] * amt for el, amt in comp.items()]\n",
    "        props['%sMean' % c].append(sum(vals) / comp.num_atoms)\n",
    "        props['%sMin' % c].append(min(vals))\n",
    "        props['%sMax' % c].append(max(vals))\n",
    "\n",
    "data = data.assign(**props)\n",
    "data = data.dropna()\n",
    "print(data.shape)"
   ]
  },
  {
   "cell_type": "code",
   "execution_count": null,
   "id": "c5834777",
   "metadata": {},
   "outputs": [],
   "source": []
  }
 ],
 "metadata": {
  "kernelspec": {
   "display_name": "Python 3 (ipykernel)",
   "language": "python",
   "name": "python3"
  },
  "language_info": {
   "codemirror_mode": {
    "name": "ipython",
    "version": 3
   },
   "file_extension": ".py",
   "mimetype": "text/x-python",
   "name": "python",
   "nbconvert_exporter": "python",
   "pygments_lexer": "ipython3",
   "version": "3.10.9"
  }
 },
 "nbformat": 4,
 "nbformat_minor": 5
}
