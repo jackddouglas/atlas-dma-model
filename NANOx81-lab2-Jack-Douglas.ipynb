{
 "cells": [
  {
   "cell_type": "code",
   "execution_count": 2,
   "id": "8bdb914d",
   "metadata": {},
   "outputs": [],
   "source": [
    "import numpy as np\n",
    "import pandas as pd\n",
    "import matplotlib.pyplot as plt\n",
    "import seaborn as sns\n",
    "from pymatgen.core import Composition"
   ]
  },
  {
   "cell_type": "markdown",
   "id": "db773448",
   "metadata": {},
   "source": [
    "# Q1 - Exploratory data analysis\n",
    "### Load the data2022.csv in variable orig_data using pandas.read_csv with na_filter=False option, and perform the following analysis.\n",
    "\n",
    "1. How many materials are there in this dataset? (1 point)\n",
    "2. How many elements are there in this data set? (1 point)\n",
    "3. How many unique formulae are there? (1 point)\n",
    "4. Count the number of materials where each element is present. Sort this count. Create a barplot showing the number of materials with the top 10 most common elements in this data set. (4 points)"
   ]
  },
  {
   "cell_type": "code",
   "execution_count": 3,
   "id": "352f7f41",
   "metadata": {},
   "outputs": [],
   "source": [
    "orig_data = pd.read_csv(\"data2022.csv\", na_filter=False)"
   ]
  },
  {
   "cell_type": "markdown",
   "id": "e8e023b1",
   "metadata": {},
   "source": [
    "1. How many materials are there in this dataset? (1 point)"
   ]
  },
  {
   "cell_type": "code",
   "execution_count": null,
   "id": "e16c7cf8",
   "metadata": {},
   "outputs": [],
   "source": []
  }
 ],
 "metadata": {
  "kernelspec": {
   "display_name": "Python 3 (ipykernel)",
   "language": "python",
   "name": "python3"
  },
  "language_info": {
   "codemirror_mode": {
    "name": "ipython",
    "version": 3
   },
   "file_extension": ".py",
   "mimetype": "text/x-python",
   "name": "python",
   "nbconvert_exporter": "python",
   "pygments_lexer": "ipython3",
   "version": "3.10.9"
  }
 },
 "nbformat": 4,
 "nbformat_minor": 5
}
